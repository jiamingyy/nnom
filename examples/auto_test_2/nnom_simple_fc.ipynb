{
 "cells": [
  {
   "cell_type": "code",
   "id": "initial_id",
   "metadata": {
    "collapsed": true,
    "ExecuteTime": {
     "end_time": "2024-12-06T02:57:03.479677Z",
     "start_time": "2024-12-06T02:57:01.016484Z"
    }
   },
   "source": [
    "import torch\n",
    "import torch.nn as nn\n",
    "import torch.optim as optim\n",
    "import torch.nn.functional as F\n",
    "import numpy as np\n",
    "import os\n",
    "import matplotlib.pyplot as plt"
   ],
   "outputs": [],
   "execution_count": 2
  },
  {
   "metadata": {
    "ExecuteTime": {
     "end_time": "2024-12-06T02:57:05.552740Z",
     "start_time": "2024-12-06T02:57:03.480670Z"
    }
   },
   "cell_type": "code",
   "source": [
    "from sklearn.datasets import load_iris\n",
    "data = load_iris()\n",
    "# data"
   ],
   "id": "e95caaf5c56e033",
   "outputs": [],
   "execution_count": 3
  },
  {
   "metadata": {},
   "cell_type": "markdown",
   "source": "## 构建训练数据集与搭建网络",
   "id": "b65b669b9db3206e"
  },
  {
   "metadata": {
    "ExecuteTime": {
     "end_time": "2024-12-06T02:57:05.790773Z",
     "start_time": "2024-12-06T02:57:05.553750Z"
    }
   },
   "cell_type": "code",
   "source": [
    "x = data['data']\n",
    "y = data['target']\n",
    "# 转化数据类型\n",
    "x = torch.tensor(x, dtype=torch.float32)\n",
    "y = torch.tensor(y, dtype=torch.long)\n",
    "# 构建数据集\n",
    "from torch.utils.data import Dataset, DataLoader\n",
    "class IrisDataset(Dataset):\n",
    "    def __init__(self, x, y):\n",
    "        self.x = x\n",
    "        self.y = y\n",
    "\n",
    "    def __getitem__(self, index):\n",
    "        return self.x[index], self.y[index]\n",
    "\n",
    "    def __len__(self):\n",
    "        return len(self.x)\n",
    "\n",
    "# 切分数据集\n",
    "from sklearn.model_selection import train_test_split\n",
    "x_train, x_test, y_train, y_test = train_test_split(x, y, test_size=0.2, random_state=42)\n",
    "# 构建数据集和数据加载器\n",
    "train_dataset = IrisDataset(x_train, y_train)\n",
    "test_dataset = IrisDataset(x_test, y_test)\n",
    "train_loader = DataLoader(train_dataset, batch_size=8, shuffle=True)\n",
    "test_loader = DataLoader(test_dataset, batch_size=8, shuffle=False)"
   ],
   "id": "a1f985639802ab27",
   "outputs": [],
   "execution_count": 4
  },
  {
   "metadata": {
    "ExecuteTime": {
     "end_time": "2024-12-06T02:57:05.806774Z",
     "start_time": "2024-12-06T02:57:05.791778Z"
    }
   },
   "cell_type": "code",
   "source": [
    "# 构建一个3层nn\n",
    "class Net(nn.Module):\n",
    "    def __init__(self):\n",
    "        super(Net, self).__init__()\n",
    "        self.fc1 = nn.Linear(4, 10)\n",
    "        self.fc2 = nn.Linear(10, 10)\n",
    "        self.fc3 = nn.Linear(10, 3)\n",
    "\n",
    "    def forward(self, x):\n",
    "        x = F.relu(self.fc1(x))\n",
    "        x = F.relu(self.fc2(x))\n",
    "        x = self.fc3(x)\n",
    "        return x"
   ],
   "id": "dd35a56b08b6f29e",
   "outputs": [],
   "execution_count": 5
  },
  {
   "metadata": {},
   "cell_type": "markdown",
   "source": "## 训练模型并测试模型准确率",
   "id": "d67b45c43cb72919"
  },
  {
   "metadata": {
    "ExecuteTime": {
     "end_time": "2024-12-06T02:57:05.822774Z",
     "start_time": "2024-12-06T02:57:05.807786Z"
    }
   },
   "cell_type": "code",
   "source": [
    "# 训练模型\n",
    "def train_model():\n",
    "    # 训练模型\n",
    "    net = Net()\n",
    "    criterion = nn.CrossEntropyLoss()\n",
    "    optimizer = optim.SGD(net.parameters(), lr=0.01, momentum=0.9)\n",
    "    loss_stat = []\n",
    "    for epoch in range(100):\n",
    "        running_loss = 0.0\n",
    "        for i, data in enumerate(train_loader, 0):\n",
    "            inputs, labels = data\n",
    "            optimizer.zero_grad()\n",
    "            outputs = net(inputs)\n",
    "            loss = criterion(outputs, labels)\n",
    "            loss.backward()\n",
    "            optimizer.step()\n",
    "            running_loss += loss.item()\n",
    "        avg_loss = running_loss / 10\n",
    "        # print('[%d, %5d] loss: %.3f' % (epoch + 1, i + 1, avg_loss))\n",
    "        loss_stat.append(avg_loss)\n",
    "        running_loss = 0.0\n",
    "    # print('Finished Training')\n",
    "    return net, loss_stat"
   ],
   "id": "f3f95ec10749782f",
   "outputs": [],
   "execution_count": 6
  },
  {
   "metadata": {
    "ExecuteTime": {
     "end_time": "2024-12-06T02:57:05.838775Z",
     "start_time": "2024-12-06T02:57:05.823777Z"
    }
   },
   "cell_type": "code",
   "source": [
    "# 评估模型\n",
    "def test_model(net):\n",
    "    correct = 0\n",
    "    total = 0\n",
    "    with torch.no_grad():\n",
    "        for data in test_loader:\n",
    "            inputs, labels = data\n",
    "            y = net(inputs)\n",
    "            _, predicted = torch.max(y.data, 1)\n",
    "            total += labels.size(0)\n",
    "            correct += (predicted == labels).sum().item()\n",
    "    print('Accuracy of the network on the 100 test images: %d %%' % (100 * correct / total))\n",
    "    return correct, total\n",
    "        "
   ],
   "id": "82c9a2c3df96a19f",
   "outputs": [],
   "execution_count": 7
  },
  {
   "metadata": {
    "ExecuteTime": {
     "end_time": "2024-12-06T02:57:05.870774Z",
     "start_time": "2024-12-06T02:57:05.839785Z"
    }
   },
   "cell_type": "code",
   "source": [
    "model_file_name = 'iris_net.pth'\n",
    "net = None\n",
    "\n",
    "if model_file_name in os.listdir():\n",
    "    net = Net()\n",
    "    net.load_state_dict(torch.load(model_file_name, weights_only=True))\n",
    "else:\n",
    "    net, loss_stat = train_model()\n",
    "    torch.save(net.state_dict(), model_file_name)\n",
    "    plt.plot(loss_stat)\n",
    "    \n",
    "test_model(net)"
   ],
   "id": "7fdf5d4099193fad",
   "outputs": [
    {
     "name": "stdout",
     "output_type": "stream",
     "text": [
      "Accuracy of the network on the 100 test images: 96 %\n"
     ]
    },
    {
     "data": {
      "text/plain": [
       "(29, 30)"
      ]
     },
     "execution_count": 8,
     "metadata": {},
     "output_type": "execute_result"
    }
   ],
   "execution_count": 8
  },
  {
   "metadata": {},
   "cell_type": "markdown",
   "source": [
    "## 模型转换以及输出测试\n",
    "将Pytorch模型转化位ONNX模型并对比输出的结果"
   ],
   "id": "c9af49a05fe913d4"
  },
  {
   "metadata": {
    "ExecuteTime": {
     "end_time": "2024-12-06T02:57:06.124329Z",
     "start_time": "2024-12-06T02:57:05.871777Z"
    }
   },
   "cell_type": "code",
   "source": [
    "# 保存模型为onnx\n",
    "torch.onnx.export(net, torch.randn(1, 4), 'iris_net.onnx', input_names=['input'], output_names=['output'])"
   ],
   "id": "f974d6123dea861e",
   "outputs": [],
   "execution_count": 9
  },
  {
   "metadata": {
    "ExecuteTime": {
     "end_time": "2024-12-06T02:57:06.140251Z",
     "start_time": "2024-12-06T02:57:06.125325Z"
    }
   },
   "cell_type": "code",
   "source": "x_test[:1]",
   "id": "9bbad81d7974df93",
   "outputs": [
    {
     "data": {
      "text/plain": [
       "tensor([[6.1000, 2.8000, 4.7000, 1.2000]])"
      ]
     },
     "execution_count": 10,
     "metadata": {},
     "output_type": "execute_result"
    }
   ],
   "execution_count": 10
  },
  {
   "metadata": {
    "ExecuteTime": {
     "end_time": "2024-12-06T02:57:06.156242Z",
     "start_time": "2024-12-06T02:57:06.141252Z"
    }
   },
   "cell_type": "code",
   "source": [
    "# 加载onnx模型并执行推理，对比torch模型的输出与onnx的输出的差异\n",
    "import onnxruntime as ort\n",
    "ort_session = ort.InferenceSession('iris_net.onnx')\n",
    "ort_inputs = {'input': x_test[:1].numpy()}\n",
    "onnx_result = ort_session.run(['output'], ort_inputs)\n",
    "onnx_result"
   ],
   "id": "98f31b2f54bb1057",
   "outputs": [
    {
     "data": {
      "text/plain": [
       "[array([[-3.4283571,  2.8357146, -0.2446419]], dtype=float32)]"
      ]
     },
     "execution_count": 11,
     "metadata": {},
     "output_type": "execute_result"
    }
   ],
   "execution_count": 11
  },
  {
   "metadata": {
    "ExecuteTime": {
     "end_time": "2024-12-06T02:57:06.172242Z",
     "start_time": "2024-12-06T02:57:06.158242Z"
    }
   },
   "cell_type": "code",
   "source": [
    "torch_result = net(x_test[:1])\n",
    "torch_result"
   ],
   "id": "17c88a51d91c45f6",
   "outputs": [
    {
     "data": {
      "text/plain": [
       "tensor([[-3.4284,  2.8357, -0.2446]], grad_fn=<AddmmBackward0>)"
      ]
     },
     "execution_count": 12,
     "metadata": {},
     "output_type": "execute_result"
    }
   ],
   "execution_count": 12
  },
  {
   "metadata": {},
   "cell_type": "markdown",
   "source": "## 量化测试过程",
   "id": "d94290ed3dddaae8"
  },
  {
   "metadata": {},
   "cell_type": "code",
   "outputs": [],
   "execution_count": 13,
   "source": [
    "import sys\n",
    "sys.path.append('../..')\n",
    "# import scripts.nnom as nnom\n",
    "import scripts.nnom_onnx_utils as utils"
   ],
   "id": "18e7bb4d1c4aaaac"
  },
  {
   "metadata": {
    "ExecuteTime": {
     "end_time": "2024-12-06T06:28:20.882452Z",
     "start_time": "2024-12-06T06:28:20.877452Z"
    }
   },
   "cell_type": "code",
   "source": [
    "# 随机生成一些变量\n",
    "x = np.random.randn(1,10) * 5\n",
    "x[0][0] = 32.0\n",
    "dec = utils.find_dec_bits_max_min(x)\n",
    "qx = utils.quantize_data(x, dec).astype(dtype=np.int8)\n",
    "cx = qx * 2**(-dec)\n",
    "dx = x - cx\n",
    "print('原始数据: ', x)\n",
    "print('量化数据:', qx)\n",
    "print('dec:', dec)\n",
    "print('还原后：', cx)\n",
    "print('误差：', dx)"
   ],
   "id": "186b59c9eb13210e",
   "outputs": [
    {
     "name": "stdout",
     "output_type": "stream",
     "text": [
      "原始数据:  [[32.         -3.95491664 -4.37047222 -8.03214777 -3.42550685 -6.389711\n",
      "  -4.84653968  7.16511194  9.58964002 -0.52632722]]\n",
      "量化数据: [[127 -16 -17 -32 -14 -26 -19  29  38  -2]]\n",
      "dec: 2\n",
      "还原后： [[31.75 -4.   -4.25 -8.   -3.5  -6.5  -4.75  7.25  9.5  -0.5 ]]\n",
      "误差： [[ 0.25        0.04508336 -0.12047222 -0.03214777  0.07449315  0.110289\n",
      "  -0.09653968 -0.08488806  0.08964002 -0.02632722]]\n"
     ]
    }
   ],
   "execution_count": 26
  },
  {
   "metadata": {
    "ExecuteTime": {
     "end_time": "2024-12-06T06:53:37.399581Z",
     "start_time": "2024-12-06T06:53:37.379583Z"
    }
   },
   "cell_type": "code",
   "source": [
    "# 读取onnx模型的参数\n",
    "import onnx\n",
    "onnx_model = onnx.load('iris_net.onnx')\n",
    "onnx.checker.check_model(onnx_model)\n",
    "\n",
    "# Get input ，Node and output name\n",
    "input_name = onnx_model.graph.input[0].name # currently only support one input\n",
    "output_name = onnx_model.graph.output[0].name # currently only support one output\n",
    "print('input_name: ', input_name)\n",
    "for node in onnx_model.graph.node:\n",
    "    print(node.op_type, node.input, node.output)"
   ],
   "id": "e8c60955abd2721a",
   "outputs": [
    {
     "name": "stdout",
     "output_type": "stream",
     "text": [
      "input_name:  input\n",
      "Gemm ['input', 'fc1.weight', 'fc1.bias'] ['/fc1/Gemm_output_0']\n",
      "Relu ['/fc1/Gemm_output_0'] ['/Relu_output_0']\n",
      "Gemm ['/Relu_output_0', 'fc2.weight', 'fc2.bias'] ['/fc2/Gemm_output_0']\n",
      "Relu ['/fc2/Gemm_output_0'] ['/Relu_1_output_0']\n",
      "Gemm ['/Relu_1_output_0', 'fc3.weight', 'fc3.bias'] ['output']\n"
     ]
    }
   ],
   "execution_count": 27
  }
 ],
 "metadata": {
  "kernelspec": {
   "display_name": "Python 3",
   "language": "python",
   "name": "python3"
  },
  "language_info": {
   "codemirror_mode": {
    "name": "ipython",
    "version": 2
   },
   "file_extension": ".py",
   "mimetype": "text/x-python",
   "name": "python",
   "nbconvert_exporter": "python",
   "pygments_lexer": "ipython2",
   "version": "2.7.6"
  }
 },
 "nbformat": 4,
 "nbformat_minor": 5
}
